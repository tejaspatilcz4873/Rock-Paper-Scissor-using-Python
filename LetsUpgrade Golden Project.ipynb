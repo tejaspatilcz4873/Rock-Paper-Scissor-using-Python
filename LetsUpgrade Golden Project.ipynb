{
 "cells": [
  {
   "cell_type": "code",
   "execution_count": null,
   "metadata": {},
   "outputs": [
    {
     "name": "stdout",
     "output_type": "stream",
     "text": [
      "Enter number of test cases76\n",
      "Enter the number of alphabets4\n",
      "Enetr the wordsonu\n",
      "qmmq\n"
     ]
    }
   ],
   "source": [
    "'''\n",
    "# Sample code to perform I/O:\n",
    " \n",
    "name = input()                  # Reading input from STDIN\n",
    "print('Hi, %s.' % name)         # Writing output to STDOUT\n",
    " \n",
    "# Warning: Printing unwanted or ill-formatted data to output will cause the test cases to fail\n",
    "'''\n",
    " \n",
    "# Write your code here\n",
    "T = int(input(\"Enter number of test cases :\"))\n",
    "for _ in range(T):\n",
    "    N = int(input(\"Enter the number of alphabets :\"))\n",
    "    word = input(\"Enetr the word :\")\n",
    "    new_word = ''\n",
    "    prime_numbers = {67, 71, 73, 79, 83, 89, 97, 101, 103, 107, 109, 113}\n",
    "    list_prime = [67, 71, 73, 79, 83, 89, 97, 101, 103, 107, 109, 113]\n",
    "    for char in word:\n",
    "        ascii = ord(char)\n",
    "        if ascii in prime_numbers:\n",
    "            new_word += char\n",
    "        else:\n",
    "            if ascii > 113:\n",
    "                new_word += chr(113)\n",
    "                continue\n",
    "            new_list_prime = list_prime[:]\n",
    "            new_list_prime.append(ascii)\n",
    "            new_list_prime.sort()\n",
    "            i = new_list_prime.index(ascii)\n",
    "            below, above = new_list_prime[i-1], new_list_prime[i+1]\n",
    "            below_distance = abs(ascii - below)\n",
    "            above_distance = abs(above - ascii)\n",
    "            if below_distance < above_distance:\n",
    "                ascii = below\n",
    "            elif below_distance > above_distance:\n",
    "                ascii = above\n",
    "            else:\n",
    "                ascii = min(below, above)\n",
    "            new_word += chr(ascii)\n",
    "    print(new_word)\n",
    "\n"
   ]
  },
  {
   "cell_type": "code",
   "execution_count": null,
   "metadata": {},
   "outputs": [],
   "source": []
  },
  {
   "cell_type": "code",
   "execution_count": null,
   "metadata": {},
   "outputs": [],
   "source": []
  }
 ],
 "metadata": {
  "kernelspec": {
   "display_name": "Python 3",
   "language": "python",
   "name": "python3"
  },
  "language_info": {
   "codemirror_mode": {
    "name": "ipython",
    "version": 3
   },
   "file_extension": ".py",
   "mimetype": "text/x-python",
   "name": "python",
   "nbconvert_exporter": "python",
   "pygments_lexer": "ipython3",
   "version": "3.7.6"
  }
 },
 "nbformat": 4,
 "nbformat_minor": 4
}
