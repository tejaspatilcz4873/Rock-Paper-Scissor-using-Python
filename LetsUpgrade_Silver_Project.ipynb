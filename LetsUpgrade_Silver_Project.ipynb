{
  "nbformat": 4,
  "nbformat_minor": 0,
  "metadata": {
    "colab": {
      "name": "LetsUpgrade Silver Project",
      "provenance": []
    },
    "kernelspec": {
      "name": "python3",
      "display_name": "Python 3"
    }
  },
  "cells": [
    {
      "cell_type": "markdown",
      "metadata": {
        "id": "VwsbQO9zN0q6",
        "colab_type": "text"
      },
      "source": [
        "LetsUpgrade Silver Project\n",
        "\n",
        "Rock-Paper-Scissor"
      ]
    },
    {
      "cell_type": "code",
      "metadata": {
        "id": "V2Sf0H7BsqeU",
        "colab_type": "code",
        "colab": {
          "base_uri": "https://localhost:8080/",
          "height": 629
        },
        "outputId": "e053320b-3d17-4d2b-8684-06715290eb86"
      },
      "source": [
        "import random\n",
        "print('Welcome to virtual Rock-Paper-Scissor game')\n",
        "print(\"Rules of game are :\\n Rock vs Paper-- Paper wins \\n Rock vs Scissor-- Rock wins \\n Paper vs Scissor-- Scissor wins\")\n",
        "\n",
        "\n",
        "\n",
        "def game():\n",
        "  player_input = int(input(\"Enter 1 for Rock, 2 for Paper, 3 for Scissor : \"))\n",
        "  if (player_input < 1) or (player_input > 3):\n",
        "    player_input = int(input(\"Please enter valid number : \"))\n",
        "  if player_input == 1 :\n",
        "    player_choice = \"Rock\"\n",
        "  elif player_input == 2 :\n",
        "    player_choice = \"Paper\"\n",
        "  else:\n",
        "    player_choice = \"Scissor\"\n",
        "  print(\"You have chosen\",player_choice)\n",
        "  machine_random_output = random.randint(1,3)\n",
        "  if machine_random_output == 1 :\n",
        "    machine_choice = \"Rock\"\n",
        "  elif machine_random_output == 2 :\n",
        "    machine_choice = \"Paper\"\n",
        "  else:\n",
        "    machine_choice = \"Scissor\"\n",
        "  print(\"Computer had chosen\",machine_choice)\n",
        "  \n",
        "  \n",
        "  if player_choice == machine_choice :\n",
        "    print('Tie')\n",
        "  if (player_choice == \"Rock\") and (machine_choice == \"Paper\"):\n",
        "    print(\"Computer wins!!\")\n",
        "  elif (player_choice == \"Rock\") and (machine_choice == \"Scissor\"):\n",
        "    print(\"You win!!\")\n",
        "  elif (player_choice == \"Paper\") and (machine_choice == \"Rock\"):\n",
        "    print(\"You win!!\")\n",
        "  elif (player_choice == \"Paper\") and (machine_choice == \"Scissor\"):\n",
        "    print(\"Computer wins!!\")\n",
        "  elif (player_choice == \"Scissor\") and (machine_choice == \"Rock\"):\n",
        "    print(\"Computer wins!!\")\n",
        "  elif (player_choice == \"Scissor\") and (machine_choice == \"Paper\"):\n",
        "    print(\"You win!!\")\n",
        "    \n",
        "    \n",
        "  play_again = str(input(\"Want to play again ? Enter Yes or No : \"))\n",
        "  if play_again == \"Yes\":\n",
        "    game()\n",
        "  else:\n",
        "    print(\"Thanks for playing\")\n",
        "\n",
        "\n",
        "game() \n",
        "\n",
        "\n",
        "\n",
        "  \n"
      ],
      "execution_count": null,
      "outputs": [
        {
          "output_type": "stream",
          "text": [
            "Welcome to virtual Rock-Paper-Scissor game\n",
            "Rules of game are :\n",
            " Rock vs Paper-- Paper wins \n",
            " Rock vs Scissor-- Rock wins \n",
            " Paper vs Scissor-- Scissor wins\n",
            "Enter 1 for Rock, 2 for Paper, 3 for Scissor : 1\n",
            "You have chosen Rock\n",
            "Computer had chosen Scissor\n",
            "You win!!\n",
            "Want to play again ? Enter Yes or No : Yes\n",
            "Enter 1 for Rock, 2 for Paper, 3 for Scissor : 2\n",
            "You have chosen Paper\n",
            "Computer had chosen Scissor\n",
            "Computer wins!!\n",
            "Want to play again ? Enter Yes or No : Yes\n",
            "Enter 1 for Rock, 2 for Paper, 3 for Scissor : 3\n",
            "You have chosen Scissor\n",
            "Computer had chosen Scissor\n",
            "Tie\n",
            "Want to play again ? Enter Yes or No : Yes\n",
            "Enter 1 for Rock, 2 for Paper, 3 for Scissor : 3\n",
            "You have chosen Scissor\n",
            "Computer had chosen Paper\n",
            "You win!!\n",
            "Want to play again ? Enter Yes or No : Yes\n",
            "Enter 1 for Rock, 2 for Paper, 3 for Scissor : 2\n",
            "You have chosen Paper\n",
            "Computer had chosen Scissor\n",
            "Computer wins!!\n",
            "Want to play again ? Enter Yes or No : Yes\n",
            "Enter 1 for Rock, 2 for Paper, 3 for Scissor : 1\n",
            "You have chosen Rock\n",
            "Computer had chosen Rock\n",
            "Tie\n",
            "Want to play again ? Enter Yes or No : No\n",
            "Thanks for playing\n"
          ],
          "name": "stdout"
        }
      ]
    },
    {
      "cell_type": "code",
      "metadata": {
        "id": "hzoZufUTLjeY",
        "colab_type": "code",
        "colab": {}
      },
      "source": [
        ""
      ],
      "execution_count": null,
      "outputs": []
    },
    {
      "cell_type": "code",
      "metadata": {
        "id": "pB3aSwRd1Yzw",
        "colab_type": "code",
        "colab": {}
      },
      "source": [
        "print(\"Cumulative Scoreboard for this gaming session :\")\n",
        "  print(\"Your Wins =\",player_wins)\n",
        "  print(\"Computer Wins =\",machine_wins)\n",
        "  print(\"Ties =\",ties)"
      ],
      "execution_count": null,
      "outputs": []
    },
    {
      "cell_type": "code",
      "metadata": {
        "id": "oSrOKJ9mJe0s",
        "colab_type": "code",
        "colab": {}
      },
      "source": [
        "global player_score = player_score + player_wins\n",
        "    global machine_score = machine_score + machine_wins\n",
        "    global tie_score = tie_score + tie"
      ],
      "execution_count": null,
      "outputs": []
    }
  ]
}